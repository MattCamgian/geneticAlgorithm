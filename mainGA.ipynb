{
 "cells": [
  {
   "cell_type": "code",
   "execution_count": null,
   "metadata": {},
   "outputs": [],
   "source": [
    "!git clone https://github.com/MattCamgian/geneticAlgorithm.git\n",
    "\n",
    "import sys\n",
    "sys.path.append(\"geneticAlgorithm\")\n",
    "\n",
    "!pip install deap"
   ]
  },
  {
   "cell_type": "code",
   "execution_count": 1,
   "metadata": {
    "collapsed": false
   },
   "outputs": [
    {
     "name": "stdout",
     "output_type": "stream",
     "text": [
      "best: (192.0, 192.0, 0, 81.5) [[3, 3, 1, 2, 463, 105, 163, 209]]\nworst: (188.0, 188.0, 0, 81.5) [[3, 3, 1, 2, 463, 105, 163, 209]]\n"
     ]
    },
    {
     "name": "stdout",
     "output_type": "stream",
     "text": [
      "best: (285.0, 285.0, 0, 0.0) [[1, 1, 0, 0, 453, 472, 212, 134]]\nworst: (118.0, 288.0, 85, 0.0) [[2, 0, 2, 0, 394, 262, 459, 48]]\n"
     ]
    },
    {
     "name": "stdout",
     "output_type": "stream",
     "text": [
      "best: (328.0, 328.0, 0, 84.33333333333333) [[3, 1, 2, 2, 2, 127, 100, 270]]\nworst: (164.0, 164.0, 0, 0.0) [[3, 0, 0, 0, 427, 487, 110, 202]]\n"
     ]
    },
    {
     "name": "stdout",
     "output_type": "stream",
     "text": [
      "best: (419.0, 419.0, 0, 76.0) [[3, 3, 1, 1, 451, 311, 114, 65]]\nworst: (146.0, 146.0, 0, 0.0) [[0, 0, 2, 0, 71, 44, 443, 3]]\n"
     ]
    },
    {
     "name": "stdout",
     "output_type": "stream",
     "text": [
      "best: (392.0, 392.0, 0, 106.66666666666667) [[3, 3, 1, 1, 451, 122, 160, 65]]\nworst: (178.0, 178.0, 0, 152.33333333333334) [[1, 0, 2, 2, 230, 472, 212, 134]]\n"
     ]
    },
    {
     "name": "stdout",
     "output_type": "stream",
     "text": [
      "best: (396.0, 396.0, 0, 84.66666666666667) [[1, 1, 2, 2, 99, 127, 100, 391]]\nworst: (171.0, 402.0, 96, 106.0) [[3, 0, 3, 3, 99, 105, 212, 134]]\n"
     ]
    },
    {
     "name": "stdout",
     "output_type": "stream",
     "text": [
      "best: (410.0, 410.0, 0, 84.66666666666667) [[1, 1, 2, 2, 2, 127, 100, 270]]\nworst: (133.0, 443.0, 130, 0.0) [[2, 0, 2, 2, 290, 310, 66, 31]]\n"
     ]
    },
    {
     "name": "stdout",
     "output_type": "stream",
     "text": [
      "best: (408.0, 408.0, 0, 84.33333333333333) [[1, 1, 2, 2, 2, 127, 100, 270]]\nworst: (292.0, 292.0, 0, 0.0) [[3, 0, 2, 2, 373, 310, 212, 277]]\n"
     ]
    },
    {
     "name": "stdout",
     "output_type": "stream",
     "text": [
      "best: (406.0, 406.0, 0, 84.66666666666667) [[1, 1, 2, 2, 2, 127, 100, 270]]\nworst: (191.0, 249.0, 29, 50.0) [[1, 3, 1, 2, 2, 127, 100, 270]]\n"
     ]
    },
    {
     "name": "stdout",
     "output_type": "stream",
     "text": [
      "best: (418.0, 418.0, 0, 90.8) [[3, 3, 1, 1, 2, 127, 100, 5]]\nworst: (318.0, 318.0, 0, 141.33333333333334) [[3, 3, 1, 1, 451, 105, 212, 209]]\n"
     ]
    },
    {
     "name": "stdout",
     "output_type": "stream",
     "text": [
      "best: (409.0, 409.0, 0, 70.0) [[3, 3, 2, 2, 99, 127, 59, 5]]\nworst: (304.0, 304.0, 0, 116.6) [[3, 1, 2, 2, 2, 127, 100, 5]]\n"
     ]
    },
    {
     "name": "stdout",
     "output_type": "stream",
     "text": [
      "best: (427.0, 427.0, 0, 69.57142857142857) [[3, 3, 1, 1, 2, 127, 59, 5]]\nworst: (358.0, 358.0, 0, 114.66666666666667) [[1, 1, 2, 2, 172, 127, 100, 270]]\n"
     ]
    },
    {
     "name": "stdout",
     "output_type": "stream",
     "text": [
      "best: (421.0, 421.0, 0, 69.71428571428571) [[3, 3, 2, 2, 99, 127, 59, 5]]\nworst: (363.0, 363.0, 0, 66.0) [[1, 3, 2, 2, 99, 127, 59, 391]]\n"
     ]
    },
    {
     "name": "stdout",
     "output_type": "stream",
     "text": [
      "best: (416.0, 416.0, 0, 69.71428571428571) [[3, 3, 1, 1, 2, 127, 59, 5]]\nworst: (413.0, 413.0, 0, 84.66666666666667) [[1, 1, 2, 2, 99, 127, 100, 391]]\n"
     ]
    },
    {
     "name": "stdout",
     "output_type": "stream",
     "text": [
      "best: (448.0, 448.0, 0, 69.71428571428571) [[3, 3, 1, 1, 2, 127, 59, 5]]\nworst: (332.0, 332.0, 0, 78.66666666666667) [[3, 3, 2, 1, 2, 127, 66, 5]]\n"
     ]
    },
    {
     "name": "stdout",
     "output_type": "stream",
     "text": [
      "best: (414.0, 414.0, 0, 70.0) [[3, 3, 1, 1, 2, 127, 59, 5]]\nworst: (418.0, 418.0, 0, 69.85714285714286) [[3, 3, 1, 1, 99, 127, 59, 5]]\n"
     ]
    },
    {
     "name": "stdout",
     "output_type": "stream",
     "text": [
      "best: (429.0, 429.0, 0, 77.0) [[3, 3, 1, 1, 2, 127, 66, 5]]\nworst: (432.0, 432.0, 0, 69.71428571428571) [[3, 3, 2, 2, 99, 127, 59, 5]]\n"
     ]
    },
    {
     "name": "stdout",
     "output_type": "stream",
     "text": [
      "best: (434.0, 434.0, 0, 77.2) [[3, 3, 1, 1, 2, 127, 66, 5]]\nworst: (420.0, 420.0, 0, 77.2) [[3, 3, 1, 1, 2, 127, 66, 5]]\n"
     ]
    },
    {
     "name": "stdout",
     "output_type": "stream",
     "text": [
      "best: (420.0, 420.0, 0, 77.2) [[3, 3, 1, 1, 2, 127, 66, 5]]\nworst: (417.0, 417.0, 0, 77.0) [[3, 3, 2, 2, 99, 127, 66, 5]]\n"
     ]
    },
    {
     "name": "stdout",
     "output_type": "stream",
     "text": [
      "best: (445.0, 445.0, 0, 61.57142857142857) [[3, 3, 1, 1, 99, 0, 59, 5]]\nworst: (422.0, 422.0, 0, 77.2) [[3, 3, 1, 1, 2, 127, 66, 5]]\n"
     ]
    },
    {
     "name": "stdout",
     "output_type": "stream",
     "text": [
      "best: (456.0, 456.0, 0, 61.857142857142854) [[3, 3, 1, 1, 99, 0, 59, 5]]\nworst: (415.0, 415.0, 0, 69.85714285714286) [[3, 3, 1, 1, 99, 127, 59, 5]]\n"
     ]
    },
    {
     "name": "stdout",
     "output_type": "stream",
     "text": [
      "best: (462.0, 462.0, 0, 56.42857142857143) [[3, 3, 1, 1, 2, 80, 59, 5]]\nworst: (432.0, 432.0, 0, 70.0) [[3, 3, 1, 1, 99, 127, 59, 5]]\n"
     ]
    },
    {
     "name": "stdout",
     "output_type": "stream",
     "text": [
      "best: (446.0, 446.0, 0, 61.42857142857143) [[3, 3, 1, 1, 99, 0, 59, 5]]\nworst: (433.0, 433.0, 0, 69.57142857142857) [[3, 3, 2, 2, 2, 127, 59, 5]]\n"
     ]
    },
    {
     "name": "stdout",
     "output_type": "stream",
     "text": [
      "best: (443.0, 443.0, 0, 61.714285714285715) [[3, 3, 1, 1, 99, 0, 59, 5]]\nworst: (388.0, 388.0, 0, 39.333333333333336) [[3, 3, 1, 1, 2, 428, 59, 5]]\n"
     ]
    },
    {
     "name": "stdout",
     "output_type": "stream",
     "text": [
      "best: (455.0, 455.0, 0, 62.0) [[3, 3, 1, 1, 99, 0, 59, 5]]\nworst: (348.0, 348.0, 0, 72.0) [[3, 3, 1, 2, 99, 0, 59, 5]]\n"
     ]
    },
    {
     "name": "stdout",
     "output_type": "stream",
     "text": [
      "best: (437.0, 437.0, 0, 62.0) [[3, 3, 1, 1, 99, 0, 59, 5]]\nworst: (407.0, 407.0, 0, 78.8) [[3, 3, 1, 1, 2, 80, 117, 5]]\n"
     ]
    },
    {
     "name": "stdout",
     "output_type": "stream",
     "text": [
      "best: (439.0, 439.0, 0, 61.285714285714285) [[3, 3, 1, 1, 99, 0, 59, 5]]\nworst: (444.0, 444.0, 0, 54.42857142857143) [[3, 3, 1, 1, 73, 0, 59, 5]]\n"
     ]
    },
    {
     "name": "stdout",
     "output_type": "stream",
     "text": [
      "best: (453.0, 453.0, 0, 53.857142857142854) [[3, 3, 1, 1, 73, 0, 59, 5]]\nworst: (438.0, 438.0, 0, 61.857142857142854) [[3, 3, 1, 1, 99, 0, 59, 5]]\n"
     ]
    },
    {
     "name": "stdout",
     "output_type": "stream",
     "text": [
      "best: (453.0, 453.0, 0, 54.57142857142857) [[3, 3, 1, 1, 73, 0, 59, 5]]\nworst: (458.0, 458.0, 0, 54.57142857142857) [[3, 3, 1, 1, 73, 0, 59, 5]]\n"
     ]
    },
    {
     "name": "stdout",
     "output_type": "stream",
     "text": [
      "best: (452.0, 452.0, 0, 54.57142857142857) [[3, 3, 1, 1, 73, 0, 59, 5]]\nworst: (456.0, 456.0, 0, 54.57142857142857) [[3, 3, 1, 1, 73, 0, 59, 5]]\n"
     ]
    },
    {
     "name": "stdout",
     "output_type": "stream",
     "text": [
      "best: (455.0, 455.0, 0, 54.57142857142857) [[3, 3, 1, 1, 73, 0, 59, 5]]\nworst: (459.0, 459.0, 0, 54.285714285714285) [[3, 3, 1, 1, 73, 0, 59, 5]]\n"
     ]
    },
    {
     "name": "stdout",
     "output_type": "stream",
     "text": [
      "best: (448.0, 448.0, 0, 54.57142857142857) [[3, 3, 1, 1, 73, 0, 59, 5]]\nworst: (463.0, 463.0, 0, 54.42857142857143) [[3, 3, 1, 1, 73, 0, 59, 5]]\n"
     ]
    },
    {
     "name": "stdout",
     "output_type": "stream",
     "text": [
      "best: (456.0, 456.0, 0, 54.57142857142857) [[3, 3, 1, 1, 73, 0, 59, 5]]\nworst: (453.0, 453.0, 0, 54.42857142857143) [[3, 3, 1, 1, 73, 0, 59, 5]]\n"
     ]
    },
    {
     "name": "stdout",
     "output_type": "stream",
     "text": [
      "best: (451.0, 451.0, 0, 54.57142857142857) [[3, 3, 1, 1, 73, 0, 59, 5]]\nworst: (438.0, 438.0, 0, 54.142857142857146) [[3, 3, 1, 1, 73, 0, 59, 5]]\n"
     ]
    },
    {
     "name": "stdout",
     "output_type": "stream",
     "text": [
      "best: (456.0, 456.0, 0, 54.57142857142857) [[3, 3, 1, 1, 73, 0, 59, 5]]\nworst: (450.0, 450.0, 0, 54.57142857142857) [[3, 3, 1, 1, 73, 0, 59, 5]]\n"
     ]
    },
    {
     "name": "stdout",
     "output_type": "stream",
     "text": [
      "best: (443.0, 443.0, 0, 54.285714285714285) [[3, 3, 1, 1, 73, 0, 59, 5]]\nworst: (442.0, 442.0, 0, 54.42857142857143) [[3, 3, 1, 1, 73, 0, 59, 5]]\n"
     ]
    },
    {
     "name": "stdout",
     "output_type": "stream",
     "text": [
      "best: (453.0, 453.0, 0, 54.57142857142857) [[3, 3, 1, 1, 73, 0, 59, 5]]\nworst: (464.0, 464.0, 0, 54.57142857142857) [[3, 3, 1, 1, 73, 0, 59, 5]]\n"
     ]
    },
    {
     "name": "stdout",
     "output_type": "stream",
     "text": [
      "best: (458.0, 458.0, 0, 54.42857142857143) [[3, 3, 1, 1, 73, 0, 59, 5]]\nworst: (460.0, 460.0, 0, 54.57142857142857) [[3, 3, 1, 1, 73, 0, 59, 5]]\n"
     ]
    },
    {
     "name": "stdout",
     "output_type": "stream",
     "text": [
      "best: (450.0, 450.0, 0, 54.57142857142857) [[3, 3, 1, 1, 73, 0, 59, 5]]\nworst: (442.0, 442.0, 0, 51.57142857142857) [[3, 3, 1, 1, 73, 0, 54, 5]]\n"
     ]
    },
    {
     "name": "stdout",
     "output_type": "stream",
     "text": [
      "best: (460.0, 460.0, 0, 54.57142857142857) [[3, 3, 1, 1, 73, 0, 59, 5]]\nworst: (454.0, 454.0, 0, 54.285714285714285) [[3, 3, 1, 1, 73, 0, 59, 5]]\n"
     ]
    },
    {
     "name": "stdout",
     "output_type": "stream",
     "text": [
      "best: (452.0, 452.0, 0, 54.57142857142857) [[3, 3, 1, 1, 73, 0, 59, 5]]\nworst: (449.0, 449.0, 0, 52.857142857142854) [[3, 3, 1, 1, 67, 0, 59, 5]]\n"
     ]
    },
    {
     "name": "stdout",
     "output_type": "stream",
     "text": [
      "best: (450.0, 450.0, 0, 54.42857142857143) [[3, 3, 1, 1, 73, 0, 59, 5]]\nworst: (451.0, 451.0, 0, 53.714285714285715) [[3, 3, 1, 1, 73, 0, 59, 5]]\n"
     ]
    },
    {
     "name": "stdout",
     "output_type": "stream",
     "text": [
      "best: (458.0, 458.0, 0, 54.57142857142857) [[3, 3, 1, 1, 73, 63, 59, 5]]\nworst: (460.0, 460.0, 0, 58.857142857142854) [[3, 3, 1, 1, 89, 0, 59, 5]]\n"
     ]
    },
    {
     "name": "stdout",
     "output_type": "stream",
     "text": [
      "best: (457.0, 457.0, 0, 54.57142857142857) [[3, 3, 1, 1, 73, 0, 59, 5]]\nworst: (458.0, 458.0, 0, 54.0) [[3, 3, 1, 1, 73, 0, 59, 5]]\n"
     ]
    },
    {
     "name": "stdout",
     "output_type": "stream",
     "text": [
      "best: (439.0, 439.0, 0, 54.42857142857143) [[3, 3, 1, 1, 73, 0, 59, 5]]\nworst: (437.0, 437.0, 0, 59.142857142857146) [[3, 3, 1, 1, 89, 0, 59, 5]]\n"
     ]
    },
    {
     "name": "stdout",
     "output_type": "stream",
     "text": [
      "best: (458.0, 458.0, 0, 54.57142857142857) [[3, 3, 1, 1, 73, 63, 59, 5]]\nworst: (444.0, 444.0, 0, 54.42857142857143) [[3, 3, 1, 1, 73, 0, 59, 5]]\n"
     ]
    },
    {
     "name": "stdout",
     "output_type": "stream",
     "text": [
      "best: (456.0, 456.0, 0, 54.57142857142857) [[3, 3, 1, 1, 73, 0, 59, 5]]\nworst: (461.0, 461.0, 0, 54.142857142857146) [[3, 3, 1, 1, 73, 0, 59, 5]]\n"
     ]
    },
    {
     "name": "stdout",
     "output_type": "stream",
     "text": [
      "best: (462.0, 462.0, 0, 54.42857142857143) [[3, 3, 1, 1, 73, 0, 59, 5]]\nworst: (453.0, 453.0, 0, 54.42857142857143) [[3, 3, 1, 1, 73, 0, 59, 5]]\n"
     ]
    },
    {
     "name": "stdout",
     "output_type": "stream",
     "text": [
      "best: (452.0, 452.0, 0, 52.857142857142854) [[3, 3, 1, 1, 67, 0, 59, 5]]\nworst: (446.0, 446.0, 0, 54.57142857142857) [[3, 3, 1, 1, 73, 0, 59, 5]]\n"
     ]
    },
    {
     "name": "stdout",
     "output_type": "stream",
     "text": [
      "best: (449.0, 449.0, 0, 54.285714285714285) [[3, 3, 1, 1, 73, 0, 59, 5]]\nworst: (449.0, 449.0, 0, 54.142857142857146) [[3, 3, 1, 1, 73, 0, 59, 5]]\n"
     ]
    }
   ],
   "source": [
    "import numpy as np\n",
    "import random\n",
    "\n",
    "import matplotlib.pyplot as plt\n",
    "\n",
    "from trafficSim import traffic_sim\n",
    "from deap import creator, base, tools, algorithms\n",
    "\n",
    "import traffic_vis\n",
    "\n",
    "creator.create(\"FitnessMax\", base.Fitness, weights=(0.5,-2.0,-1.0))\n",
    "creator.create(\"Individual\", list, fitness=creator.FitnessMax)\n",
    "\n",
    "toolbox = base.Toolbox()\n",
    "\n",
    "\n",
    "toolbox.register(\"attr_seq\", random.randint, 0, 3)\n",
    "toolbox.register(\"attr_light\", random.randint, 0, 100)\n",
    "toolbox.register(\"individual\", tools.initCycle, creator.Individual, (toolbox.attr_seq, toolbox.attr_seq, toolbox.attr_seq, toolbox.attr_seq, toolbox.attr_light,toolbox.attr_light,toolbox.attr_light,toolbox.attr_light))\n",
    "toolbox.register(\"population\", tools.initRepeat, list, toolbox.individual)\n",
    "\n",
    "def eval(individual):\n",
    "    passed_intersection, entered_intersection, wreck, avg_wait = traffic_sim(individual)\n",
    "    return passed_intersection,wreck,avg_wait\n",
    "\n",
    "toolbox.register(\"evaluate\", eval)\n",
    "toolbox.register(\"mate\", tools.cxTwoPoint)\n",
    "toolbox.register(\"mutate\", tools.mutUniformInt, low=0, up=[3,3,3,3,100,100,100,100] ,indpb=0.15)\n",
    "toolbox.register(\"select\", tools.selTournament, tournsize=3)\n",
    "\n",
    "population = toolbox.population(n=80)\n",
    "\n",
    "NGEN=25\n",
    "best = []\n",
    "for gen in range(NGEN):\n",
    "    offspring = algorithms.varAnd(population, toolbox, cxpb=0.5, mutpb=0.2)\n",
    "    fits = toolbox.map(toolbox.evaluate, offspring)\n",
    "    for fit, ind in zip(fits, offspring):\n",
    "        ind.fitness.values = fit\n",
    "    best.append(traffic_sim(tools.selBest(population, k=1)[0]))\n",
    "    print(\"best: \" + str(traffic_sim(tools.selBest(population, k=1)[0])),tools.selBest(population, k=1) )\n",
    "    print(\"worst: \" + str(traffic_sim(tools.selWorst(population, k=1)[0])),tools.selWorst(population, k=1))\n",
    "    population = toolbox.select(offspring, k=len(population))\n",
    "\n",
    "\n",
    "passed_intersection, entered_intersection, wreck, avg_wait = zip(*best)\n",
    "for value in zip(*best):\n",
    "    plt.plot(range(0,NGEN),np.array(value))\n",
    "plt.legend([\"passed_intersection\", \"entered_intersection\", \"wreck\", \"avg_wait\"])\n",
    "plt.show()\n",
    "\n",
    "finalBest = tools.selBest(population, k=1)[0]\n",
    "traffic_vis.draw_intersection(finalBest)\n",
    "\n"
   ]
  },
  {
   "cell_type": "code",
   "execution_count": null,
   "metadata": {},
   "outputs": [],
   "source": []
  }
 ],
 "metadata": {
  "kernelspec": {
   "display_name": "Python 3",
   "language": "python",
   "name": "python3"
  },
  "language_info": {
   "codemirror_mode": {
    "name": "ipython",
    "version": 3
   },
   "file_extension": ".py",
   "mimetype": "text/x-python",
   "name": "python",
   "nbconvert_exporter": "python",
   "pygments_lexer": "ipython3",
   "version": "3.7.1"
  }
 },
 "nbformat": 4,
 "nbformat_minor": 1
}
